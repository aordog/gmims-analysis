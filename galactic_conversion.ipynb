{
 "cells": [
  {
   "cell_type": "code",
   "execution_count": null,
   "metadata": {},
   "outputs": [],
   "source": [
    "import numpy as np\n",
    "import matplotlib.pyplot as plt\n",
    "from astropy.io import fits\n",
    "from astropy.wcs import WCS\n",
    "from astropy import units as u\n",
    "from reproject import reproject_from_healpix, reproject_to_healpix\n",
    "from astropy_healpix import HEALPix\n",
    "from astropy.coordinates import Galactic\n",
    "from astropy.coordinates import SkyCoord\n",
    "import healpy\n",
    "import gc"
   ]
  },
  {
   "cell_type": "markdown",
   "metadata": {},
   "source": [
    "### Choose type of starting file"
   ]
  },
  {
   "cell_type": "code",
   "execution_count": null,
   "metadata": {},
   "outputs": [],
   "source": [
    "#############################\n",
    "start_with_healpix = True # True if already reading in Healpix files\n",
    "#############################"
   ]
  },
  {
   "cell_type": "markdown",
   "metadata": {},
   "source": [
    "### Read in Q, U data in equatorial"
   ]
  },
  {
   "cell_type": "code",
   "execution_count": null,
   "metadata": {},
   "outputs": [],
   "source": [
    "hduQ = fits.open('/srv/data/dva/dragons_hoard/Data_cubes_Jun_2025_BB/convolved_masked_cubes/500to1000/conv_hpx/q_499to1000MHz_convolved_2.5deg_masked_eq.hpx.fits')\n",
    "hdrQ = hduQ[0].header\n",
    "Qeq = hduQ[0].data\n",
    "\n",
    "hduU = fits.open('/srv/data/dva/dragons_hoard/Data_cubes_Jun_2025_BB/convolved_masked_cubes/500to1000/conv_hpx/u_499to1000MHz_convolved_2.5deg_masked_eq.hpx.fits')\n",
    "hdrU = hduU[0].header\n",
    "Ueq = hduU[0].data\n",
    "\n",
    "hduI = fits.open('/srv/data/dva/dragons_hoard/Data_cubes_Jun_2025_BB/convolved_masked_cubes/500to1000/conv_hpx/i_499to1000MHz_convolved_2.5deg_masked_eq.hpx.fits')\n",
    "hdrI = hduI[0].header\n",
    "Ieq = hduI[0].data\n",
    "\n",
    "print(Qeq.shape)\n",
    "\n",
    "print(repr(hdrQ))"
   ]
  },
  {
   "cell_type": "markdown",
   "metadata": {},
   "source": [
    "### Set nside for Healpix depending on pixel sizes"
   ]
  },
  {
   "cell_type": "code",
   "execution_count": null,
   "metadata": {},
   "outputs": [],
   "source": [
    "if start_with_healpix == False:\n",
    "    \n",
    "    dx = hdrQ['CDELT2']\n",
    "    \n",
    "    if dx >= 1.0:\n",
    "        nside = 64\n",
    "    if ((dx < 1.0) & (dx >= 0.5)):\n",
    "        nside = 128\n",
    "    if ((dx < 0.5) & (dx >= 0.25)):\n",
    "        nside = 256\n",
    "    if ((dx < 0.25) & (dx >= 0.125)):\n",
    "        nside = 512\n",
    "        \n",
    "    if dx < 0.125:\n",
    "        print('WARNING: really small pixels!')\n",
    "    else:\n",
    "        print('Healpix using nside = '+str(nside))\n",
    "\n",
    "    numfreq = hdrQ['NAXIS3']\n",
    "\n",
    "else:\n",
    "    numfreq = hdrQ['NAXIS2']\n",
    "    nside = hdrQ['NSIDE']\n",
    "\n",
    "print('channels: ',numfreq)\n",
    "print('nside: ',nside)"
   ]
  },
  {
   "cell_type": "markdown",
   "metadata": {},
   "source": [
    "### Make 2D header"
   ]
  },
  {
   "cell_type": "code",
   "execution_count": null,
   "metadata": {},
   "outputs": [],
   "source": [
    "if start_with_healpix == False:\n",
    "    wcs2D = WCS(hdrQ).dropaxis(1)\n",
    "    print(repr(wcs2D))"
   ]
  },
  {
   "cell_type": "markdown",
   "metadata": {},
   "source": [
    "### Make sure invalid data set to NaN"
   ]
  },
  {
   "cell_type": "code",
   "execution_count": null,
   "metadata": {},
   "outputs": [],
   "source": [
    "# In case there are stray UNSEENs in the input files\n",
    "Qeq[Qeq == healpy.UNSEEN] = np.nan\n",
    "Ueq[Ueq == healpy.UNSEEN] = np.nan\n",
    "Ieq[Ieq == healpy.UNSEEN] = np.nan\n",
    "\n",
    "Qeq[~np.isfinite(Qeq)] = np.nan\n",
    "Ueq[~np.isfinite(Ueq)] = np.nan\n",
    "Ieq[~np.isfinite(Ieq)] = np.nan\n",
    "\n",
    "Qeq[Qeq == 0] = np.nan\n",
    "Ueq[Ueq == 0] = np.nan\n",
    "Ieq[Ieq == 0] = np.nan\n"
   ]
  },
  {
   "cell_type": "markdown",
   "metadata": {},
   "source": [
    "### Reproject to healpix equatorial"
   ]
  },
  {
   "cell_type": "code",
   "execution_count": null,
   "metadata": {
    "scrolled": true
   },
   "outputs": [],
   "source": [
    "if start_with_healpix:\n",
    "    print('already have healpix file')\n",
    "    Qeq_hpx = Qeq\n",
    "    Ueq_hpx = Ueq\n",
    "    Ieq_hpx = Ieq\n",
    "\n",
    "else:\n",
    "    Nhpx = healpy.pixelfunc.nside2npix(nside)\n",
    "\n",
    "    Qeq_hpx = np.empty([hdrQ['NAXIS3'],Nhpx])\n",
    "    Ueq_hpx = np.empty([hdrU['NAXIS3'],Nhpx])\n",
    "    Ieq_hpx = np.empty([hdrI['NAXIS3'],Nhpx])\n",
    "\n",
    "    for i in range(0,hdrQ['NAXIS3']):\n",
    "        print('Converting to Healpix '+str(i+1)+' of '+str(hdrQ['NAXIS3']))\n",
    "        Ueq_hpx[i], footprint = reproject_to_healpix((Ueq[i],wcs2D),coord_system_out='C',nside=nside)\n",
    "        Qeq_hpx[i], footprint = reproject_to_healpix((Qeq[i],wcs2D),coord_system_out='C',nside=nside)\n",
    "        Ieq_hpx[i], footprint = reproject_to_healpix((Ieq[i],wcs2D),coord_system_out='C',nside=nside)"
   ]
  },
  {
   "cell_type": "markdown",
   "metadata": {},
   "source": [
    "### Delete original (non-healpix) cubes to reduce memory usage:"
   ]
  },
  {
   "cell_type": "code",
   "execution_count": null,
   "metadata": {},
   "outputs": [],
   "source": [
    "if start_with_healpix == False:\n",
    "    del Qeq\n",
    "    del Ueq\n",
    "    del Ieq\n",
    "    \n",
    "    gc.collect()"
   ]
  },
  {
   "cell_type": "code",
   "execution_count": null,
   "metadata": {},
   "outputs": [],
   "source": [
    "healpy.mollview(Qeq_hpx[0],min=-20,max=20,rot=(0,90),cmap='RdBu_r')\n",
    "healpy.mollview(Ueq_hpx[0],min=-20,max=20,rot=(0,90),cmap='RdBu_r')\n",
    "healpy.mollview(Ieq_hpx[0],min=0,max=1000,rot=(0,90))"
   ]
  },
  {
   "cell_type": "markdown",
   "metadata": {},
   "source": [
    "### Change U from IAU to COSMO convention and apply Healpy masking to NaNs\n",
    "### WARNING: DO NOT ACCIDENTALLY RUN THIS CELL TWICE!"
   ]
  },
  {
   "cell_type": "code",
   "execution_count": null,
   "metadata": {},
   "outputs": [],
   "source": [
    "Ueq_hpx *= -1\n",
    "\n",
    "Ieq_hpx[np.isnan(Ieq_hpx)] = healpy.UNSEEN\n",
    "Qeq_hpx[np.isnan(Qeq_hpx)] = healpy.UNSEEN\n",
    "Ueq_hpx[np.isnan(Ueq_hpx)] = healpy.UNSEEN\n"
   ]
  },
  {
   "cell_type": "markdown",
   "metadata": {},
   "source": [
    "### Rotate to Galactic"
   ]
  },
  {
   "cell_type": "code",
   "execution_count": null,
   "metadata": {
    "scrolled": true
   },
   "outputs": [],
   "source": [
    "r = healpy.Rotator(coord=['C', 'G'])\n",
    "\n",
    "if start_with_healpix:\n",
    "    ii = hdrQ['NAXIS2']\n",
    "    Qgal_hpx = np.empty_like(Qeq)\n",
    "    Ugal_hpx = np.empty_like(Ueq)\n",
    "    Igal_hpx = np.empty_like(Ieq)\n",
    "else:\n",
    "    ii  = hdrQ['NAXIS3']\n",
    "    Qgal_hpx = np.empty_like(Qeq_hpx)\n",
    "    Ugal_hpx = np.empty_like(Ueq_hpx)\n",
    "    Igal_hpx = np.empty_like(Ieq_hpx)\n",
    "\n",
    "for i in range(0,ii):\n",
    "    print('Rotating to Galactic '+str(i+1)+' of '+str(numfreq))\n",
    "\n",
    "    Igal_hpx[i], Qgal_hpx[i], Ugal_hpx[i] = r.rotate_map_alms([Ieq_hpx[i],Qeq_hpx[i],Ueq_hpx[i]])\n",
    "    i_rot_pix,   q_rot_pix,   u_rot_pix   = r.rotate_map_pixel([Ieq_hpx[i],Qeq_hpx[i],Ueq_hpx[i]])\n",
    "\n",
    "    # Getting rid of bad values:\n",
    "    Igal_hpx[i][(i_rot_pix < -1e20) | (i_rot_pix > 1e20)] = healpy.UNSEEN\n",
    "    Qgal_hpx[i][(q_rot_pix < -1e20) | (q_rot_pix > 1e20)] = healpy.UNSEEN\n",
    "    Ugal_hpx[i][(u_rot_pix < -1e20) | (u_rot_pix > 1e20)] = healpy.UNSEEN"
   ]
  },
  {
   "cell_type": "markdown",
   "metadata": {},
   "source": [
    "### Apply NaNs back to masking and change U back to IAU\n",
    "### WARNING: DO NOT ACCIDENTALLY RUN THIS CELL TWICE!"
   ]
  },
  {
   "cell_type": "code",
   "execution_count": null,
   "metadata": {},
   "outputs": [],
   "source": [
    "Qgal_hpx = np.array(Qgal_hpx)\n",
    "Ugal_hpx = np.array(Ugal_hpx)\n",
    "Igal_hpx = np.array(Igal_hpx)\n",
    "\n",
    "Qgal_hpx[Qgal_hpx == healpy.UNSEEN] = np.nan\n",
    "Ugal_hpx[Ugal_hpx == healpy.UNSEEN] = np.nan\n",
    "Igal_hpx[Igal_hpx == healpy.UNSEEN] = np.nan\n",
    "\n",
    "Ugal_hpx *= -1"
   ]
  },
  {
   "cell_type": "code",
   "execution_count": null,
   "metadata": {},
   "outputs": [],
   "source": [
    "healpy.mollview(Qgal_hpx[0],min=-20,max=20,cmap='RdBu_r',rot=(0,0))"
   ]
  },
  {
   "cell_type": "markdown",
   "metadata": {},
   "source": [
    "### Make new Galactic header (plate caree)"
   ]
  },
  {
   "cell_type": "code",
   "execution_count": null,
   "metadata": {},
   "outputs": [],
   "source": [
    "pixsize = 0.5\n",
    "\n",
    "nx = int(round((360/pixsize),0))\n",
    "ny = int(round((180/pixsize),0))\n",
    "\n",
    "hdr_gal = hdrQ.copy()\n",
    "\n",
    "if start_with_healpix:\n",
    "    hdr_gal['NAXIS3']  = hdrQ['NAXIS2']\n",
    "    hdr_gal['NAXIS']  = 3\n",
    "    hdr_gal['CTYPE3'] = hdrQ['CTYPE2']\n",
    "    hdr_gal['CRPIX3'] = hdrQ['CRPIX2']\n",
    "    hdr_gal['CRVAL3'] = hdrQ['CRVAL2']\n",
    "    hdr_gal['CDELT3'] = hdrQ['CDELT2']\n",
    "    hdr_gal['CUNIT3'] = hdrQ['CUNIT2']\n",
    "\n",
    "    try:\n",
    "        del hdr_gal['PIXTYPE']\n",
    "        del hdr_gal['ORDERING']\n",
    "        del hdr_gal['INDXSCHM']\n",
    "        del hdr_gal['OBJECT']\n",
    "        del hdr_gal['NSIDE']\n",
    "    except:\n",
    "        pass\n",
    "\n",
    "hdr_gal['COORDSYS']  = 'galactic'\n",
    "hdr_gal['NAXIS1']  = nx \n",
    "hdr_gal['NAXIS2']  = ny\n",
    "\n",
    "hdr_gal['CTYPE1']  = 'GLON-CAR'\n",
    "hdr_gal['CRPIX1']  = nx/2.+0.5 \n",
    "hdr_gal['CRVAL1']  = 0          \n",
    "hdr_gal['CDELT1']  = -pixsize\n",
    "hdr_gal['CUNIT1']  = 'deg'\n",
    "\n",
    "hdr_gal['CTYPE2']  = 'GLAT-CAR'\n",
    "hdr_gal['CRPIX2']  = ny/2.+0.5\n",
    "hdr_gal['CRVAL2']  = 0\n",
    "hdr_gal['CDELT2']  = pixsize\n",
    "hdr_gal['CUNIT2']  = 'deg'\n",
    "        \n",
    "print(repr(hdr_gal))\n",
    "print('=============================')\n",
    "\n",
    "wcs2D_gal = WCS(hdr_gal).dropaxis(2)\n",
    "print(repr(wcs2D_gal))\n"
   ]
  },
  {
   "cell_type": "markdown",
   "metadata": {},
   "source": [
    "### Make new Galactic header (healpix)"
   ]
  },
  {
   "cell_type": "code",
   "execution_count": null,
   "metadata": {},
   "outputs": [],
   "source": [
    "hdr_gal_hpx = hdrQ.copy()\n",
    "\n",
    "hdr_gal_hpx['COORDSYS']  = 'galactic'\n",
    "\n",
    "print(repr(hdr_gal_hpx))\n",
    "print('=============================')\n",
    "\n",
    "wcs2D_gal_hpx = WCS(hdr_gal_hpx).dropaxis(1)\n",
    "print(repr(wcs2D_gal_hpx))\n"
   ]
  },
  {
   "cell_type": "markdown",
   "metadata": {},
   "source": [
    "### Convert Galactic healpix to regular FITS"
   ]
  },
  {
   "cell_type": "code",
   "execution_count": null,
   "metadata": {
    "scrolled": true
   },
   "outputs": [],
   "source": [
    "Q_gal = np.empty([hdr_gal['NAXIS3'],hdr_gal['NAXIS2'],hdr_gal['NAXIS1']])\n",
    "U_gal = np.empty([hdr_gal['NAXIS3'],hdr_gal['NAXIS2'],hdr_gal['NAXIS1']])\n",
    "I_gal = np.empty([hdr_gal['NAXIS3'],hdr_gal['NAXIS2'],hdr_gal['NAXIS1']])\n",
    "\n",
    "for i in range(0,Q_gal.shape[0]):\n",
    "#for i in range(0,10):\n",
    "\n",
    "    print('Converting back to FITS plate caree '+str(i+1)+' of '+str(numfreq))\n",
    "    \n",
    "    Q_gal[i,:,:], footprint = reproject_from_healpix((Qgal_hpx[i],'galactic'),wcs2D_gal, nested=False)\n",
    "    U_gal[i,:,:], footprint = reproject_from_healpix((Ugal_hpx[i],'galactic'),wcs2D_gal, nested=False)\n",
    "    I_gal[i,:,:], footprint = reproject_from_healpix((Igal_hpx[i],'galactic'),wcs2D_gal, nested=False)\n",
    "    "
   ]
  },
  {
   "cell_type": "markdown",
   "metadata": {},
   "source": [
    "## Write out files"
   ]
  },
  {
   "cell_type": "code",
   "execution_count": null,
   "metadata": {},
   "outputs": [],
   "source": [
    "fits.writeto('/srv/data/dva/dragons_hoard/Data_cubes_Jun_2025_BB/convolved_masked_cubes/500to1000/conv_hpx/q_499to1000MHz_convolved_2.5deg_masked_gal.hpx.fits', \n",
    "             Qgal_hpx, hdr_gal_hpx, overwrite=False)\n",
    "\n",
    "fits.writeto('/srv/data/dva/dragons_hoard/Data_cubes_Jun_2025_BB/convolved_masked_cubes/500to1000/conv_hpx/u_499to1000MHz_convolved_2.5deg_masked_gal.hpx.fits', \n",
    "             Ugal_hpx, hdr_gal_hpx, overwrite=False)\n",
    "\n",
    "fits.writeto('/srv/data/dva/dragons_hoard/Data_cubes_Jun_2025_BB/convolved_masked_cubes/500to1000/conv_hpx/i_499to1000MHz_convolved_2.5deg_masked_gal.hpx.fits', \n",
    "             Igal_hpx, hdr_gal_hpx, overwrite=False)\n"
   ]
  },
  {
   "cell_type": "code",
   "execution_count": null,
   "metadata": {},
   "outputs": [],
   "source": [
    "fits.writeto('/srv/data/dva/dragons_hoard/Data_cubes_Jun_2025_BB/convolved_masked_cubes/500to1000/conv_plat_car/q_499to1000MHz_convolved_2.5deg_masked_gal.fits', \n",
    "             Q_gal, hdr_gal, overwrite=False)\n",
    "\n",
    "fits.writeto('/srv/data/dva/dragons_hoard/Data_cubes_Jun_2025_BB/convolved_masked_cubes/500to1000/conv_plat_car/u_499to1000MHz_convolved_2.5deg_masked_gal.fits', \n",
    "             U_gal, hdr_gal, overwrite=False)\n",
    "\n",
    "fits.writeto('/srv/data/dva/dragons_hoard/Data_cubes_Jun_2025_BB/convolved_masked_cubes/500to1000/conv_plat_car/i_499to1000MHz_convolved_2.5deg_masked_gal.fits', \n",
    "             I_gal, hdr_gal, overwrite=False)\n"
   ]
  }
 ],
 "metadata": {
  "kernelspec": {
   "display_name": "Python 3 (ipykernel)",
   "language": "python",
   "name": "python3"
  },
  "language_info": {
   "codemirror_mode": {
    "name": "ipython",
    "version": 3
   },
   "file_extension": ".py",
   "mimetype": "text/x-python",
   "name": "python",
   "nbconvert_exporter": "python",
   "pygments_lexer": "ipython3",
   "version": "3.11.8"
  }
 },
 "nbformat": 4,
 "nbformat_minor": 4
}
