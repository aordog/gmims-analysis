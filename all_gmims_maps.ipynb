{
 "cells": [
  {
   "cell_type": "code",
   "execution_count": null,
   "id": "a1db1459-e04f-4f09-a41d-8147414ebeea",
   "metadata": {},
   "outputs": [],
   "source": [
    "#import sys\n",
    "import numpy as np\n",
    "from importlib import reload\n",
    "import h5py\n",
    "import os\n",
    "import copy\n",
    "import gc\n",
    "import matplotlib.gridspec as gridspec\n",
    "import matplotlib\n",
    "\n",
    "from matplotlib import pyplot as plt, patches\n",
    "from matplotlib import cm\n",
    "from matplotlib.colors import Normalize, LogNorm \n",
    "from matplotlib.ticker import MultipleLocator, FuncFormatter\n",
    "from mpl_toolkits.axes_grid1 import make_axes_locatable\n",
    "#import matplotlib as mpl\n",
    "\n",
    "import astropy.io.fits as fits\n",
    "import astropy.units as u\n",
    "from astropy.wcs import WCS\n",
    "from astropy_healpix import HEALPix\n",
    "from astropy.coordinates import SkyCoord, ICRS, Galactic\n",
    "\n",
    "from scipy.interpolate import interpn\n",
    "from scipy.optimize import curve_fit\n",
    "from scipy.stats import linregress\n",
    "from scipy import stats\n",
    "\n",
    "from reproject import reproject_to_healpix, reproject_from_healpix\n",
    "from reproject import reproject_interp\n",
    "import healpy as hp"
   ]
  },
  {
   "cell_type": "code",
   "execution_count": null,
   "id": "ca5fdd45-5123-4606-ac72-016f6d7db94e",
   "metadata": {},
   "outputs": [],
   "source": [
    "def FD_moments(data,peakthresh,maxFD,RM_arr,M0=True,M1=True,M2=False,*args,**kwargs):\n",
    " \n",
    "    dFD = abs(RM_arr[1]-RM_arr[0])\n",
    "\n",
    "    # cut out FD range chosen:\n",
    "    data_use = data[(abs(RM_arr) <= maxFD),:,:]    \n",
    "    RM_arr_use = RM_arr[(abs(RM_arr) <= maxFD)]  \n",
    "\n",
    "    # set any data points below PI threshold to NaN:\n",
    "    data_use[data_use < peakthresh] = np.nan\n",
    "\n",
    "    moments = {}\n",
    "    if M0:\n",
    "        M0_data = dFD*np.nansum(data_use,axis=0)\n",
    "        M0_data[M0_data == 0] = np.nan\n",
    "        moments['M0'] = M0_data\n",
    "    if M1:\n",
    "        M1_data = dFD*np.nansum(data_use*RM_arr_use[:,np.newaxis,np.newaxis],axis=0)/M0_data\n",
    "        moments['M1'] = M1_data\n",
    "    if M2:\n",
    "        M2_data = np.sqrt(dFD*np.nansum(data_use*(RM_arr_use[:,np.newaxis,np.newaxis]-M1_data)**2,axis=0)/M0_data)\n",
    "        moments['M2'] = M2_data\n",
    "        \n",
    "    return(moments)"
   ]
  },
  {
   "cell_type": "markdown",
   "id": "d91d2550-8ba9-43f2-a0cd-4b5c4e689cd4",
   "metadata": {},
   "source": [
    "## CHIME"
   ]
  },
  {
   "cell_type": "code",
   "execution_count": null,
   "id": "ee527d46-f6fe-4986-9682-e7180d10fdd1",
   "metadata": {},
   "outputs": [],
   "source": [
    "hdu_chime = fits.open('/srv/data/chime/chime_FD_Oct2023_586_729/FDF_clean_tot.fits')\n",
    "#hdu_chime = fits.open('/srv/data/chime/chime_FD_May2024_400_729/FDF_clean_tot.fits')\n",
    "hdr_chime = hdu_chime[0].header\n",
    "chime_FD  = hdu_chime[0].data\n",
    "\n",
    "FD_ax_chime = WCS(hdr_chime).all_pix2world(0,0,range(chime_FD.shape[0]),0)[2]\n",
    "print(FD_ax_chime[0],FD_ax_chime[-1])\n",
    "print(chime_FD.shape)"
   ]
  },
  {
   "cell_type": "code",
   "execution_count": null,
   "id": "5ceeb9e7-4e80-4fc4-8ff5-955e673b9fea",
   "metadata": {},
   "outputs": [],
   "source": [
    "plt.imshow(chime_FD[200],vmin=0,vmax=1,cmap='cubehelix',origin='lower')"
   ]
  },
  {
   "cell_type": "markdown",
   "id": "4fa57b02-7502-4edb-adec-e3f185370a7e",
   "metadata": {},
   "source": [
    "## DRAGONS"
   ]
  },
  {
   "cell_type": "code",
   "execution_count": null,
   "id": "07da0cb3-468d-413d-a808-090db16f05e3",
   "metadata": {},
   "outputs": [],
   "source": [
    "hdu_dragons = fits.open('/srv/data/dragons/Mar2024_500_1000_MHz_cube/FD_cube_DRAGONS_CLEAN_32.fits')\n",
    "hdr_dragons = hdu_dragons[0].header\n",
    "dragons_FD  = hdu_dragons[0].data\n",
    "\n",
    "FD_ax_dragons = WCS(hdr_dragons).all_pix2world(0,0,range(dragons_FD.shape[0]),0)[2]\n",
    "print(FD_ax_dragons[0],FD_ax_dragons[-1])\n",
    "print(dragons_FD.shape)"
   ]
  },
  {
   "cell_type": "code",
   "execution_count": null,
   "id": "f698cbf0-5514-41b1-a0cc-e402032d0328",
   "metadata": {},
   "outputs": [],
   "source": [
    "plt.imshow(dragons_FD[400],vmin=0,vmax=15,cmap='cubehelix',origin='lower')"
   ]
  },
  {
   "cell_type": "markdown",
   "id": "c5ed97ae-4154-492b-9559-2359b471b314",
   "metadata": {},
   "source": [
    "## GMIMS-HBN"
   ]
  },
  {
   "cell_type": "code",
   "execution_count": null,
   "id": "bbc9adca-1102-4cbc-86dd-dba4d9db0232",
   "metadata": {},
   "outputs": [],
   "source": [
    "hdu_hbn = fits.open('/srv/data/gmims/gmims-hbn/GMIMS-HBN_v1_gal_car_FD_PI.fits')\n",
    "hdr_hbn = hdu_hbn[0].header\n",
    "hbn_FD  = hdu_hbn[0].data\n",
    "\n",
    "FD_ax_hbn = WCS(hdr_hbn).all_pix2world(0,0,range(hbn_FD.shape[0]),0)[2]\n",
    "print(FD_ax_hbn[0],FD_ax_hbn[-1])\n",
    "print(hbn_FD.shape)"
   ]
  },
  {
   "cell_type": "code",
   "execution_count": null,
   "id": "e03eb6ea-5898-44b5-b073-a0cfbb13500e",
   "metadata": {},
   "outputs": [],
   "source": [
    "plt.imshow(hbn_FD[100],vmin=0,vmax=1,cmap='cubehelix',origin='lower')"
   ]
  },
  {
   "cell_type": "markdown",
   "id": "5212ec32-5701-4ef3-9376-e0acada12c20",
   "metadata": {},
   "source": [
    "## GMIMS-LBS"
   ]
  },
  {
   "cell_type": "code",
   "execution_count": null,
   "id": "49b503b2-c2a8-4766-8d1c-ddcfb21a1861",
   "metadata": {},
   "outputs": [],
   "source": [
    "hdu_lbs = fits.open('/srv/data/gmims/gmims-lbs/parkes_pi_gal.clean.fits')\n",
    "hdr_lbs = hdu_lbs[0].header\n",
    "lbs_FD  = hdu_lbs[0].data\n",
    "\n",
    "FD_ax_lbs = WCS(hdr_lbs).all_pix2world(0,0,range(lbs_FD.shape[0]),0)[2]\n",
    "print(FD_ax_lbs[0],FD_ax_lbs[-1])\n",
    "print(lbs_FD.shape)"
   ]
  },
  {
   "cell_type": "code",
   "execution_count": null,
   "id": "a28a9d74-2219-4c59-ac73-c6e3c22caec9",
   "metadata": {},
   "outputs": [],
   "source": [
    "plt.imshow(lbs_FD[200],vmin=0,vmax=2,cmap='cubehelix',origin='lower')"
   ]
  },
  {
   "cell_type": "markdown",
   "id": "4db0612e-04af-4f79-802f-0407e7aa80ae",
   "metadata": {},
   "source": [
    "## STAPS"
   ]
  },
  {
   "cell_type": "code",
   "execution_count": null,
   "id": "fef93ac2-6f35-49b1-bba4-926271f9b80c",
   "metadata": {},
   "outputs": [],
   "source": [
    "hdu_staps = fits.open('/srv/data/gmims/gmims-hbs/Jan2024/P.cln.fits')\n",
    "hdr_staps = hdu_staps[0].header\n",
    "staps_FD  = hdu_staps[0].data\n",
    "\n",
    "FD_ax_staps = WCS(hdr_staps).all_pix2world(0,0,range(staps_FD.shape[0]),0)[2]\n",
    "print(FD_ax_staps[0],FD_ax_staps[-1])\n",
    "print(staps_FD.shape)"
   ]
  },
  {
   "cell_type": "code",
   "execution_count": null,
   "id": "3d798b37-5a30-4311-92f6-e8ef845e4782",
   "metadata": {},
   "outputs": [],
   "source": [
    "plt.imshow(staps_FD[50],vmin=0,vmax=0.2,cmap='cubehelix',origin='lower')"
   ]
  },
  {
   "cell_type": "markdown",
   "id": "21239d4c-a3ee-4ebc-aff4-3c8826620f30",
   "metadata": {},
   "source": [
    "## Calculate all moments"
   ]
  },
  {
   "cell_type": "code",
   "execution_count": null,
   "id": "0abdfb63-3125-4445-a605-71c86fd61206",
   "metadata": {},
   "outputs": [],
   "source": [
    "thresholding = False\n",
    "\n",
    "if thresholding:\n",
    "    #M_chime   = FD_moments(chime_FD,   0.08, 100, FD_ax_chime,  M0=True,M1=True,M2=False)\n",
    "    #M_hbn     = FD_moments(hbn_FD,     0.04, 450, FD_ax_hbn,  M0=True,M1=True,M2=False)\n",
    "    #M_dragons = FD_moments(dragons_FD,  0.5, 100, FD_ax_dragons,M0=True,M1=True,M2=False)\n",
    "    #M_lbs     = FD_moments(lbs_FD,     0.04, 80,  FD_ax_lbs,  M0=True,M1=True,M2=False)\n",
    "    M_staps   = FD_moments(staps_FD,   0.02, 450, FD_ax_staps,  M0=True,M1=True,M2=False)\n",
    "else:\n",
    "    print('not thresholding!')\n",
    "    #M_chime   = FD_moments(chime_FD,   0.0, 100, FD_ax_chime,  M0=True,M1=True,M2=False)\n",
    "    #M_hbn     = FD_moments(hbn_FD,     0.0, 450, FD_ax_hbn,  M0=True,M1=True,M2=False)\n",
    "    #M_dragons = FD_moments(dragons_FD, 0.0, 100, FD_ax_dragons,M0=True,M1=True,M2=False)\n",
    "    #M_lbs     = FD_moments(lbs_FD,     0.0, 80,  FD_ax_lbs,  M0=True,M1=True,M2=False)\n",
    "    M_staps   = FD_moments(staps_FD,   0.0, 450, FD_ax_staps,  M0=True,M1=True,M2=False)"
   ]
  },
  {
   "cell_type": "code",
   "execution_count": null,
   "id": "231cfe84-014f-4df6-94d4-d0560e5996aa",
   "metadata": {},
   "outputs": [],
   "source": [
    "#print(M_chime['M0'].shape)\n",
    "#print(M_hbn['M0'].shape)\n",
    "#print(M_dragons['M0'].shape)\n",
    "#print(M_lbs['M0'].shape)\n",
    "print(M_staps['M0'].shape)"
   ]
  },
  {
   "cell_type": "markdown",
   "id": "f6c71d83-0c5a-49d7-9986-3453751a1e8f",
   "metadata": {},
   "source": [
    "## Everything to Healpix"
   ]
  },
  {
   "cell_type": "code",
   "execution_count": null,
   "id": "beba1ad7-5f0c-4628-bf44-74c45aa26751",
   "metadata": {},
   "outputs": [],
   "source": [
    "hdr2D_chime = hdr_chime.copy()\n",
    "hdr2D_chime['NAXIS'] = 2\n",
    "for card in hdr_chime.cards:\n",
    "    try:\n",
    "        if card[0][5] == '3':\n",
    "            del hdr2D_chime[card[0]]\n",
    "    except:\n",
    "        pass\n",
    "#print(repr(hdr2D_chime))\n",
    "\n",
    "hdr2D_hbn = hdr_hbn.copy()\n",
    "hdr2D_hbn['NAXIS'] = 2\n",
    "hdr2D_hbn['WCSAXES'] = 2\n",
    "for card in hdr_hbn.cards:\n",
    "    try:\n",
    "        if card[0][5] == '3':\n",
    "            del hdr2D_hbn[card[0]]\n",
    "    except:\n",
    "        pass\n",
    "#print(repr(hdr2D_gmims))\n",
    "\n",
    "hdr2D_dragons = hdr_dragons.copy()\n",
    "hdr2D_dragons['NAXIS'] = 2\n",
    "hdr2D_dragons['WCSAXES'] = 2\n",
    "for card in hdr_dragons.cards:\n",
    "    try:\n",
    "        if card[0][5] == '3':\n",
    "            del hdr2D_dragons[card[0]]\n",
    "    except:\n",
    "        pass\n",
    "\n",
    "\n",
    "hdr2D_lbs = hdr_lbs.copy()\n",
    "hdr2D_lbs['NAXIS'] = 2\n",
    "hdr2D_lbs['WCSAXES'] = 2\n",
    "for card in hdr_lbs.cards:\n",
    "    try:\n",
    "        if card[0][5] == '3':\n",
    "            del hdr2D_lbs[card[0]]\n",
    "    except:\n",
    "        pass\n",
    "\n",
    "\n",
    "hdr2D_staps = hdr_staps.copy()\n",
    "hdr2D_staps['NAXIS'] = 2\n",
    "hdr2D_staps['WCSAXES'] = 2\n",
    "for card in hdr_staps.cards:\n",
    "    try:\n",
    "        if card[0][5] == '3':\n",
    "            del hdr2D_staps[card[0]]\n",
    "    except:\n",
    "        pass\n",
    "\n",
    "M1_hpx_chime,   footprint = reproject_to_healpix((M_chime['M1'],   hdr2D_chime),'galactic', nside=512)\n",
    "M1_hpx_hbn,     footprint = reproject_to_healpix((M_hbn['M1'],   hdr2D_hbn),'galactic', nside=512)\n",
    "M1_hpx_dragons, footprint = reproject_to_healpix((M_dragons['M1'], hdr2D_dragons),'galactic', nside=512)\n",
    "M1_hpx_lbs,     footprint = reproject_to_healpix((M_lbs['M1'], hdr2D_lbs),'galactic', nside=512)\n",
    "M1_hpx_staps,   footprint = reproject_to_healpix((M_staps['M1'], hdr2D_staps),'ICRS', nside=512)\n",
    "\n",
    "M0_hpx_chime,   footprint = reproject_to_healpix((M_chime['M0'],   hdr2D_chime),'galactic', nside=512)\n",
    "M0_hpx_hbn,     footprint = reproject_to_healpix((M_hbn['M0'],   hdr2D_hbn),'galactic', nside=512)\n",
    "M0_hpx_dragons, footprint = reproject_to_healpix((M_dragons['M0'], hdr2D_dragons),'galactic', nside=512)\n",
    "M0_hpx_lbs,     footprint = reproject_to_healpix((M_lbs['M0'], hdr2D_lbs),'galactic', nside=512)\n",
    "M0_hpx_staps,   footprint = reproject_to_healpix((M_staps['M0'], hdr2D_staps),'ICRS', nside=512)"
   ]
  },
  {
   "cell_type": "code",
   "execution_count": null,
   "id": "baa287e0-e4af-4b36-8b94-904c12d0992b",
   "metadata": {},
   "outputs": [],
   "source": [
    "hdr2D_staps = hdr_staps.copy()\n",
    "hdr2D_staps['NAXIS'] = 2\n",
    "hdr2D_staps['WCSAXES'] = 2\n",
    "for card in hdr_staps.cards:\n",
    "    try:\n",
    "        if card[0][5] == '3':\n",
    "            del hdr2D_staps[card[0]]\n",
    "    except:\n",
    "        pass\n",
    "\n",
    "M1_hpx_staps,   footprint = reproject_to_healpix((M_staps['M1'], hdr2D_staps),'ICRS', nside=512)"
   ]
  },
  {
   "cell_type": "code",
   "execution_count": null,
   "id": "7d81ae4c-7724-4e7c-9079-edb0b8cf027b",
   "metadata": {},
   "outputs": [],
   "source": [
    "M0_hpx_staps,   footprint = reproject_to_healpix((M_staps['M0'], hdr2D_staps),'ICRS', nside=512)"
   ]
  },
  {
   "cell_type": "code",
   "execution_count": null,
   "id": "4e145c71-0a91-4f9a-8072-9fa69b107bc9",
   "metadata": {},
   "outputs": [],
   "source": [
    "#print(M1_hpx_chime.shape)\n",
    "#print(M1_hpx_hbn.shape)\n",
    "#print(M1_hpx_dragons.shape)\n",
    "#print(M1_hpx_lbs.shape)\n",
    "print(M1_hpx_staps.shape)\n"
   ]
  },
  {
   "cell_type": "code",
   "execution_count": null,
   "id": "8ded537c-59df-492f-896a-90363354d96d",
   "metadata": {},
   "outputs": [],
   "source": [
    "del chime_FD\n",
    "del dragons_FD\n",
    "del hbn_FD\n",
    "del lbs_FD\n",
    "del staps_FD\n",
    "gc.collect()"
   ]
  },
  {
   "cell_type": "markdown",
   "id": "7b13afee-bdc0-44ac-a010-7834939ec51c",
   "metadata": {},
   "source": [
    "## Convert STAPS to Galactic"
   ]
  },
  {
   "cell_type": "code",
   "execution_count": null,
   "id": "78eb14a0-d744-4118-be50-0d99a190fe2f",
   "metadata": {},
   "outputs": [],
   "source": [
    "r = hp.Rotator(coord=['C', 'G'])\n",
    "M1_hpx_staps_gal = np.array(r.rotate_map_pixel(M1_hpx_staps))\n",
    "M0_hpx_staps_gal = np.array(r.rotate_map_pixel(M0_hpx_staps))"
   ]
  },
  {
   "cell_type": "markdown",
   "id": "77fd30bc-5f0b-4fbd-9666-ec54d99416ea",
   "metadata": {},
   "source": [
    "## Making STAPS M0 and M1 maps for Becky during POSSUM busy week"
   ]
  },
  {
   "cell_type": "code",
   "execution_count": null,
   "id": "c280f0b4-6340-4861-ad8f-13d5b54d36b0",
   "metadata": {},
   "outputs": [],
   "source": [
    "#print(hdr_chime)\n",
    "\n",
    "hdr2D = hdr_chime.copy()\n",
    "wcs2D = WCS(hdr2D).dropaxis(2)\n",
    "\n",
    "print(wcs2D)\n"
   ]
  },
  {
   "cell_type": "code",
   "execution_count": null,
   "id": "c451b243-75c2-4553-aaf5-9a4e65f4275b",
   "metadata": {},
   "outputs": [],
   "source": [
    "M1_car_staps_gal, footprint = reproject_from_healpix((M1_hpx_staps_gal, 'galactic'),wcs2D, nested=False)\n",
    "M0_car_staps_gal, footprint = reproject_from_healpix((M0_hpx_staps_gal, 'galactic'),wcs2D, nested=False)\n"
   ]
  },
  {
   "cell_type": "code",
   "execution_count": null,
   "id": "781f441c-fa02-4ef6-9375-eec86b92631e",
   "metadata": {},
   "outputs": [],
   "source": [
    "hdr2D = wcs2D.to_header()"
   ]
  },
  {
   "cell_type": "code",
   "execution_count": null,
   "id": "840808a0-59de-43b7-8155-e1551361d69c",
   "metadata": {},
   "outputs": [],
   "source": [
    "print(repr(hdr2D))"
   ]
  },
  {
   "cell_type": "code",
   "execution_count": null,
   "id": "0a37803d-04e5-4214-8003-e8eeebc86651",
   "metadata": {},
   "outputs": [],
   "source": [
    "fits.writeto('/srv/data/gmims/gmims-hbs/Jan2024/staps_M1_AO_Jun3.fits',M1_car_staps_gal,hdr2D,overwrite=False)\n",
    "fits.writeto('/srv/data/gmims/gmims-hbs/Jan2024/staps_M0_AO_Jun3.fits',M0_car_staps_gal,hdr2D,overwrite=False)\n"
   ]
  },
  {
   "cell_type": "code",
   "execution_count": null,
   "id": "40b25665-3076-42df-89db-cba926519d52",
   "metadata": {},
   "outputs": [],
   "source": [
    "test_hdu = fits.open('/srv/data/gmims/gmims-hbs/Jan2024/staps_M0_AO_Jun3.fits')\n",
    "\n",
    "plt.imshow(test_hdu[0].data,vmin=0,vmax=50,cmap='cubehelix',origin='lower')"
   ]
  },
  {
   "cell_type": "code",
   "execution_count": null,
   "id": "6227bfca-a037-44c7-b65d-31a6e0a39cf8",
   "metadata": {},
   "outputs": [],
   "source": []
  },
  {
   "cell_type": "code",
   "execution_count": null,
   "id": "0152aa13-1936-4180-a36c-232629d2780d",
   "metadata": {},
   "outputs": [],
   "source": []
  },
  {
   "cell_type": "markdown",
   "id": "ad8c0909-79e6-4805-ab6b-0bec26877f88",
   "metadata": {},
   "source": [
    "## Make masks for Galactic plane"
   ]
  },
  {
   "cell_type": "code",
   "execution_count": null,
   "id": "1c263e08-246e-4eef-95bf-054e4ed1b32d",
   "metadata": {},
   "outputs": [],
   "source": [
    "pix_indices = np.arange(hp.nside2npix(512))\n",
    "\n",
    "lon, lat = hp.pix2ang(512, pix_indices, lonlat=True, nest=False)\n",
    "\n",
    "print(lon)\n",
    "print(lat)\n",
    "\n",
    "chime_mask   = np.where((lon < 65) & (np.abs(lat) < 5))\n",
    "dragons_mask = np.where((lon < 60) & (np.abs(lat) < 8))\n",
    "hbn_mask     = np.concatenate([np.where((lon < 60) & (np.abs(lat) < 2))[0],np.where((lon > 260) & (np.abs(lat) < 2))[0]])\n",
    "lbs_mask     = np.concatenate([np.where((lon < 60) & (np.abs(lat) < 8))[0],np.where((lon > 260) & (np.abs(lat) < 8))[0]])\n",
    "staps_mask   = np.concatenate([np.where((lon < 60) & (np.abs(lat) < 3))[0],np.where((lon > 270) & (np.abs(lat) < 3))[0]])"
   ]
  },
  {
   "cell_type": "markdown",
   "id": "bd9da063-7af2-4c17-ab32-6ac7e6e13e4f",
   "metadata": {},
   "source": [
    "## Make all plots"
   ]
  },
  {
   "cell_type": "code",
   "execution_count": null,
   "id": "47dbbe54-18c6-4622-85d0-51ed5522c9bd",
   "metadata": {},
   "outputs": [],
   "source": [
    "maps   = [M1_hpx_chime,\n",
    "          M1_hpx_dragons,\n",
    "          M1_hpx_hbn,\n",
    "          M1_hpx_lbs,\n",
    "          M1_hpx_staps_gal]\n",
    "\n",
    "titles = ['CHIME M1 586 - 729 MHz',\n",
    "          'DRAGONS M1 500 - 1030 MHz', \n",
    "          'GMIMS-HBN M1 1300 - 1750 MHz',\n",
    "          'GMIMS-LBS M1 300 - 480 MHz',\n",
    "          'STAPS M1 1330 - 1770 MHz']\n",
    "\n",
    "units = [r'rad m$^{-2}$',\n",
    "         r'rad m$^{-2}$',\n",
    "         r'rad m$^{-2}$',\n",
    "         r'rad m$^{-2}$',\n",
    "         r'rad m$^{-2}$']\n",
    "\n",
    "outfiles = ['M1_chime','M1_dragons','M1_hbn','M1_lbs','M1_staps']\n",
    "\n",
    "vmaxs = [20,20,50,10,50]\n",
    "\n",
    "masks = [chime_mask,chime_mask,chime_mask,chime_mask,chime_mask]\n",
    "\n",
    "do_mask = False\n",
    "fs = 14\n",
    "for i in range(0,5):\n",
    "\n",
    "    map = copy.deepcopy(maps[i])\n",
    "    map[map==0] = np.nan\n",
    "    if do_mask:\n",
    "        map[masks[i]] = np.nan\n",
    "\n",
    "    hp.newvisufunc.projview(map,cmap='RdBu_r',min=-vmaxs[i],max=vmaxs[i],rot=(0,0),\n",
    "                            xsize=2000,cbar=True,title=titles[i],unit=units[i],\n",
    "                            projection_type='mollweide',fontsize={'cbar_label':fs,'cbar_tick_label':fs,'title':fs+2},\n",
    "                            override_plot_properties={'cbar_shrink':0.4})\n",
    "\n",
    "    plt.savefig('/home/aordog/GMIMS_PLOTS/all_gmims_May2024/'+outfiles[i]+'.png',dpi=200,transparent=True)"
   ]
  },
  {
   "cell_type": "code",
   "execution_count": null,
   "id": "a7c80cd9-ad48-4ecb-8cdd-4c6421fca55d",
   "metadata": {},
   "outputs": [],
   "source": [
    "maps   = [M0_hpx_chime,\n",
    "          M0_hpx_dragons,\n",
    "          M0_hpx_hbn,\n",
    "          M0_hpx_lbs,\n",
    "          M0_hpx_staps_gal]\n",
    "\n",
    "titles = ['CHIME M0 586 - 729 MHz',\n",
    "          'DRAGONS M0 500 - 1030 MHz', \n",
    "          'GMIMS-HBN M0 1300 - 1750 MHz',\n",
    "          'GMIMS-LBS M0 300 - 480 MHz',\n",
    "          'STAPS M0 1330 - 1770 MHz']\n",
    "\n",
    "units = [r'Jy beam$^{-1}$ RMSF$^{-1}$ rad m$^{-2}$',\n",
    "         r'Jy beam$^{-1}$ RMSF$^{-1}$ rad m$^{-2}$',\n",
    "         r'K RMSF$^{-1}$ rad m$^{-2}$',\n",
    "         r'K RMSF$^{-1}$ rad m$^{-2}$',\n",
    "         r'K RMSF$^{-1}$ rad m$^{-2}$']\n",
    "\n",
    "outfiles = ['M0_chime','M0_dragons','M0_hbn','M0_lbs','M0_staps']\n",
    "\n",
    "vmaxs = [40,200,80,15,30]\n",
    "\n",
    "masks = [chime_mask,dragons_mask,hbn_mask,lbs_mask,staps_mask]\n",
    "\n",
    "do_mask = True\n",
    "fs = 14\n",
    "for i in range(0,5):\n",
    "    map = copy.deepcopy(maps[i])\n",
    "    map[map==0] = np.nan\n",
    "    #map[map<=0.05] = np.nan\n",
    "    \n",
    "    if do_mask:\n",
    "        map[masks[i]] = np.nan\n",
    "        \n",
    "    hp.newvisufunc.projview(map,cmap='cubehelix',min=0,max=vmaxs[i],rot=(0,0),\n",
    "                            xsize=2000,cbar=True,title=titles[i],unit=units[i],\n",
    "                            projection_type='mollweide',fontsize={'cbar_label':fs,'cbar_tick_label':fs,'title':fs+2},\n",
    "                            override_plot_properties={'cbar_shrink':0.4})\n",
    "    plt.savefig('/home/aordog/GMIMS_PLOTS/all_gmims_May2024/'+outfiles[i]+'.png',dpi=200,transparent=True)"
   ]
  },
  {
   "cell_type": "code",
   "execution_count": null,
   "id": "444f1e76-98e9-4908-8aba-3097349cfc5c",
   "metadata": {},
   "outputs": [],
   "source": []
  },
  {
   "cell_type": "code",
   "execution_count": null,
   "id": "1c76eaf0-5e83-4baf-b944-d85040263829",
   "metadata": {},
   "outputs": [],
   "source": []
  }
 ],
 "metadata": {
  "kernelspec": {
   "display_name": "Python 3 (ipykernel)",
   "language": "python",
   "name": "python3"
  },
  "language_info": {
   "codemirror_mode": {
    "name": "ipython",
    "version": 3
   },
   "file_extension": ".py",
   "mimetype": "text/x-python",
   "name": "python",
   "nbconvert_exporter": "python",
   "pygments_lexer": "ipython3",
   "version": "3.11.7"
  }
 },
 "nbformat": 4,
 "nbformat_minor": 5
}
