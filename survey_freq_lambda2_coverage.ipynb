{
 "cells": [
  {
   "cell_type": "code",
   "execution_count": null,
   "id": "31a2b2ed",
   "metadata": {},
   "outputs": [],
   "source": [
    "import numpy as np\n",
    "import matplotlib.pyplot as plt"
   ]
  },
  {
   "cell_type": "markdown",
   "id": "d08d2574",
   "metadata": {},
   "source": [
    "## Define surveys"
   ]
  },
  {
   "cell_type": "code",
   "execution_count": null,
   "id": "679458b5",
   "metadata": {},
   "outputs": [],
   "source": [
    "dragons    = {'file':'dragons',   'name':'DRAGONS',   'fmin':350e6,  'fmax':1030e6, 'df':1e6}\n",
    "chime_full = {'file':'chime_full','name':'CHIME ',    'fmin':400e6,  'fmax':800e6,  'df':0.4e6}\n",
    "chime_low  = {'file':'chime_low', 'name':'CHIME low', 'fmin':400e6,  'fmax':440e6,  'df':0.4e6}\n",
    "chime_high = {'file':'chime_high','name':'CHIME high','fmin':600e6,  'fmax':800e6,  'df':0.4e6}\n",
    "gmims_hbn  = {'file':'gmims_hbn', 'name':'GMIMS HBN', 'fmin':1280e6, 'fmax':1750e6, 'df':1e6}\n",
    "gmims_lbs  = {'file':'gmims_lbs', 'name':'GMIMS LBS', 'fmin':300e6,  'fmax':480e6,  'df':0.5e6}\n",
    "#staps      = {'file':, 'name':,'fmin': , 'fmax': ,  'df':}\n",
    "#pegasus    = {'file':, 'name':, fmin': , 'fmax': ,  'df':}"
   ]
  },
  {
   "cell_type": "markdown",
   "id": "8b8e3704",
   "metadata": {},
   "source": [
    "## Pick the surveys to plot, and FD range and sampling"
   ]
  },
  {
   "cell_type": "code",
   "execution_count": null,
   "id": "86ae070c",
   "metadata": {},
   "outputs": [],
   "source": [
    "phi_max    = 200 # range of FD values to plot for RMSF (+/-)\n",
    "dphi       = 0.5 # FD sampling\n",
    "survey_all = [dragons,chime_full] # which surveys to plot (1 or more)\n",
    "colors     = ['C2','C1'] # colors to use for plotting each survey \n",
    "combine    = False # Set True if want to combine frequency coverage from chosen surveys\n",
    "file_out   = 'dragons_chime_all.jpg' # name of the file to save"
   ]
  },
  {
   "cell_type": "markdown",
   "id": "57efdae4",
   "metadata": {},
   "source": [
    "## Some functions"
   ]
  },
  {
   "cell_type": "code",
   "execution_count": null,
   "id": "e0729fde",
   "metadata": {},
   "outputs": [],
   "source": [
    "c = 2.998e8\n",
    "freq = np.asarray(np.linspace(200,2000,2001))\n",
    "lbd2 = (c/(freq*1e6))**2\n",
    "\n",
    "def get_survey_params(survey):\n",
    "    \n",
    "    phi = []\n",
    "    rmsf= []\n",
    "    with open(survey['file']+'.txt', 'r') as file:\n",
    "        for line in file:\n",
    "            phi.append(float(line.split()[0]))\n",
    "            rmsf.append(float(line.split()[1]))\n",
    "\n",
    "    with open(survey['file']+'_params.txt', 'r') as file:\n",
    "        for line in file:\n",
    "            if line.split()[0] == 'phi_broad':\n",
    "                phi_broad = float(line.split()[1])\n",
    "    \n",
    "    return phi, rmsf, phi_broad\n",
    "\n",
    "def get_combo_survey_params():\n",
    "    \n",
    "    phi = []\n",
    "    rmsf= []\n",
    "    with open('combo.txt', 'r') as file:\n",
    "        for line in file:\n",
    "            phi.append(float(line.split()[0]))\n",
    "            rmsf.append(float(line.split()[1]))\n",
    "\n",
    "    with open('combo_params.txt', 'r') as file:\n",
    "        for line in file:\n",
    "            if line.split()[0] == 'phi_broad':\n",
    "                phi_broad = float(line.split()[1])\n",
    "    \n",
    "    return phi, rmsf, phi_broad\n",
    "\n",
    "def make_the_plot(survey_all,colors,freqs_all,phi_broad_all,phi_all,rmsf_all,\n",
    "                  phi_combo=None, rmsf_combo=None, phi_broad_combo=None, do_combo=False,\n",
    "                  fs=24,save_plot=True,file_out='test.jpg',*args,**kwargs):\n",
    "    \n",
    "    fig, ax = plt.subplots(figsize=(25,8))\n",
    "\n",
    "    # Make the coverage plot:\n",
    "\n",
    "    ax.plot(lbd2,freq,color='black',zorder=100)\n",
    "    for j in range(0,len(freqs_all)):\n",
    "        freqs = freqs_all[j]\n",
    "        y = np.arange(freqs[0],freqs[1],0.1*1e6)\n",
    "        x = (c/y)**2\n",
    "        x1 = (np.arange(0,c/freqs[0],0.001))**2\n",
    "        x2 = (np.arange(0,c/freqs[1],0.001))**2\n",
    "        y1 = np.repeat(freqs[0],len(x1))\n",
    "        y2 = np.repeat(freqs[1],len(x2))\n",
    "\n",
    "        ax.plot(x1,y1/1e6,color=colors[j])\n",
    "        ax.plot(x2,y2/1e6,color=colors[j])\n",
    "        ax.plot([x1[-1],x1[-1]],[0,y1[0]/1e6],color=colors[j],label=survey_all[j]['name'])\n",
    "        ax.plot([x2[-1],x2[-1]],[0,y2[0]/1e6],color=colors[j])\n",
    "\n",
    "        ax.fill_between(x,y/1e6,color=colors[j],alpha=0.4)\n",
    "        ax.fill_between(x2,y2/1e6,y1[0:len(x2)]/1e6,color=colors[j],alpha=0.4)\n",
    "\n",
    "    ax.legend(fontsize=fs,loc=(0.08,0.7))\n",
    "    ax.set_xticks(np.arange(0.1,1.1,0.1))\n",
    "    ax.tick_params(labelsize=fs,axis='both')\n",
    "    ax.set_xlim(0,1)\n",
    "    ax.set_ylim(200,1800)\n",
    "    ax.set_xlabel('$\\lambda^2$ (m$^2$)',fontsize=fs)\n",
    "    ax.set_ylabel(r'$\\nu$ (MHz)',fontsize=fs)\n",
    "\n",
    "    # Make the RMSF plot:\n",
    "\n",
    "    insetPosition = [0.395, 0.4, 0.49, 0.45]\n",
    "    ax2 = fig.add_axes(insetPosition)\n",
    "    for j in range(0,len(freqs_all)):\n",
    "        ax2.plot(phi_all[j], rmsf_all[j],color=colors[j],linewidth=2)\n",
    "        ax2.plot([-phi_broad_all[j]/2,-phi_broad_all[j]/2],[0,1.1],color=colors[j],\n",
    "                 linestyle='dashed',linewidth = 2)\n",
    "        ax2.plot([ phi_broad_all[j]/2, phi_broad_all[j]/2],[0,1.1],color=colors[j],\n",
    "                 linestyle='dashed',linewidth = 2)\n",
    "    if do_combo:\n",
    "        ax2.plot(phi_combo, rmsf_combo,color='k',linewidth=2)\n",
    "        ax2.plot([-phi_broad_combo/2,-phi_broad_combo/2],[0,1.1],color='k',\n",
    "                 linestyle='dashed',linewidth = 2)\n",
    "        ax2.plot([ phi_broad_combo/2, phi_broad_combo/2],[0,1.1],color='k',\n",
    "                 linestyle='dashed',linewidth = 2)\n",
    "    ax2.set_xticks(np.arange(-300,400,100))\n",
    "    ax2.tick_params(labelsize=fs,axis='both')\n",
    "    ax2.set_xlim(-phi_max,phi_max)\n",
    "    ax2.set_ylim(0,1.1)\n",
    "    ax2.set_xlabel('Faraday Depth (rad m$^{-2}$)',fontsize=fs)\n",
    "    ax2.set_ylabel('RMSF',fontsize=fs)\n",
    "\n",
    "    plt.savefig(file_out)\n",
    "\n",
    "    return"
   ]
  },
  {
   "cell_type": "markdown",
   "id": "d649c62e",
   "metadata": {},
   "source": [
    "## Calculate RMSFs"
   ]
  },
  {
   "cell_type": "code",
   "execution_count": null,
   "id": "388bb8d3",
   "metadata": {},
   "outputs": [],
   "source": [
    "freqs_all     = []\n",
    "phi_broad_all = []\n",
    "phi_all       = []\n",
    "rmsf_all      = []\n",
    "\n",
    "for survey in survey_all:\n",
    "    \n",
    "    fmin = survey['fmin']\n",
    "    fmax = survey['fmax']\n",
    "    df = survey['df']\n",
    "    RMSFout = survey['file']\n",
    "\n",
    "    cmd = 'python3 calculate_RMSF_AO.py -m '+str(phi_max)+' -d '+str(dphi)+' -f '+str(fmin)+' '+str(fmax)+' '+str(df)+' -o '+RMSFout\n",
    "    !{cmd}\n",
    "    \n",
    "    freqs_all.append([survey['fmin'],survey['fmax']])\n",
    "    phi, rmsf, phi_broad = get_survey_params(survey)\n",
    "    phi_broad_all.append(phi_broad)\n",
    "    phi_all.append(phi)\n",
    "    rmsf_all.append(rmsf)\n",
    "    \n",
    "if combine:\n",
    "    fcombine = []\n",
    "    for survey in survey_all:\n",
    "        fcombine.extend(list(np.arange(survey['fmin'],survey['fmax']+survey['df'],survey['df'])))\n",
    "    with open('combo_freq.txt', 'w') as filehandle:\n",
    "        for i in range(0,len(fcombine)):\n",
    "            filehandle.write(f\"{fcombine[i]}\\n\")\n",
    "    cmd = 'python3 calculate_RMSF_AO.py combo_freq.txt -m '+str(phi_max)+' -d '+str(dphi)+' -o combo'\n",
    "    !{cmd}\n",
    "    phi_combo, rmsf_combo, phi_broad_combo = get_combo_survey_params()\n",
    "    \n",
    "cmd = 'rm *.txt'\n",
    "!{cmd}"
   ]
  },
  {
   "cell_type": "markdown",
   "id": "1f17336c",
   "metadata": {},
   "source": [
    "## Make the plot"
   ]
  },
  {
   "cell_type": "code",
   "execution_count": null,
   "id": "11528968",
   "metadata": {},
   "outputs": [],
   "source": [
    "make_the_plot(survey_all,colors,freqs_all,phi_broad_all,phi_all,rmsf_all,fs=24,\n",
    "              phi_combo=phi_combo, rmsf_combo=rmsf_combo, phi_broad_combo=phi_broad_combo, \n",
    "              do_combo=combine,file_out=file_out)"
   ]
  },
  {
   "cell_type": "code",
   "execution_count": null,
   "id": "5157e79e",
   "metadata": {},
   "outputs": [],
   "source": []
  },
  {
   "cell_type": "code",
   "execution_count": null,
   "id": "82a61ef5",
   "metadata": {},
   "outputs": [],
   "source": []
  },
  {
   "cell_type": "code",
   "execution_count": null,
   "id": "9fdb739b",
   "metadata": {},
   "outputs": [],
   "source": []
  }
 ],
 "metadata": {
  "kernelspec": {
   "display_name": "Python 3",
   "language": "python",
   "name": "python3"
  },
  "language_info": {
   "codemirror_mode": {
    "name": "ipython",
    "version": 3
   },
   "file_extension": ".py",
   "mimetype": "text/x-python",
   "name": "python",
   "nbconvert_exporter": "python",
   "pygments_lexer": "ipython3",
   "version": "3.9.4"
  }
 },
 "nbformat": 4,
 "nbformat_minor": 5
}
